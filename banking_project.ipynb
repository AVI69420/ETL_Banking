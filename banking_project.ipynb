{
 "cells": [
  {
   "cell_type": "code",
   "execution_count": 1,
   "metadata": {},
   "outputs": [],
   "source": [
    "import pandas as pd\n",
    "import requests as req\n",
    "import sqlite3\n",
    "from bs4 import BeautifulSoup\n",
    "from datetime import datetime"
   ]
  },
  {
   "cell_type": "code",
   "execution_count": 2,
   "metadata": {},
   "outputs": [],
   "source": [
    "log_file = \"./log_file.txt\"\n",
    "url = \"https://web.archive.org/web/20230908091635%20/https://en.wikipedia.org/wiki/List_of_largest_banks\"\n",
    "table_attrib = [\"Name\",\"MC_USD_Billion\"]\n",
    "csv_path = \"C:\\\\Users\\\\ravik\\\\Documents\\\\IBM Engineering\\\\Python\\\\Banking_Project\\\\exhange_rate.csv\"\n",
    "outputfile = \"Largest_banks_data.csv\"\n",
    "Database_Name = 'Banks.db'\n",
    "Table_Name = 'Largest_banks'\n",
    "sql_connection = sqlite3.connect(Database_Name)\n",
    "query1 = 'SELECT * FROM Largest_banks'\n",
    "query2 = 'SELECT AVG(MC_GBP_Billion) FROM Largest_banks'\n",
    "query3 = 'SELECT Name from Largest_banks LIMIT 5'"
   ]
  },
  {
   "cell_type": "code",
   "execution_count": 3,
   "metadata": {},
   "outputs": [],
   "source": [
    "def log_progress(message):\n",
    "    timestamp_format = '%Y-%h-%d-%H:%M:%S'\n",
    "    now = datetime.now()\n",
    "    timestamp = now.strftime(timestamp_format)\n",
    "    with open(log_file,\"a\") as f:\n",
    "       f.write(timestamp + ' : ' + message + '\\n')"
   ]
  },
  {
   "cell_type": "code",
   "execution_count": 4,
   "metadata": {},
   "outputs": [],
   "source": [
    "def extract(url,table_attrib):\n",
    "    response = req.get(url).text\n",
    "    Data = BeautifulSoup(response,\"html.parser\")\n",
    "    Tables = Data.find_all(\"table\",{\"class\":\"wikitable\"})\n",
    "    rows = Tables[0].find_all('tr')\n",
    "\n",
    "    extracted_data = []\n",
    "\n",
    "    for row in rows:\n",
    "        col = row.find_all('td')\n",
    "        if len(col)!=0:\n",
    "            data_dic = {\n",
    "                \"Name\": col[1].text.strip(),\n",
    "                \"MC_USD_Billion\":float(col[2].contents[0][:-1])\n",
    "            }\n",
    "            extracted_data.append(data_dic)\n",
    "    df = pd.DataFrame(extracted_data,columns=table_attrib)\n",
    "    print(df)\n",
    "    return df"
   ]
  },
  {
   "cell_type": "code",
   "execution_count": 5,
   "metadata": {},
   "outputs": [],
   "source": [
    "def transform(df,csv_path):\n",
    "    exchangerate_df = pd.read_csv(csv_path)\n",
    "    exchangerate_dict = exchangerate_df.set_index('Currency').to_dict()['Rate']\n",
    "\n",
    "    df['MC_EUR_Billion'] = ((df['MC_USD_Billion'].astype(float))*exchangerate_dict['EUR']).round(2)\n",
    "    df['MC_GBP_Billion'] = ((df['MC_USD_Billion'].astype(float))*exchangerate_dict['GBP']).round(2)\n",
    "    df['MC_INR_Billion'] = ((df['MC_USD_Billion'].astype(float))*exchangerate_dict['INR']).round(2)\n",
    "\n",
    "    return df"
   ]
  },
  {
   "cell_type": "code",
   "execution_count": 6,
   "metadata": {},
   "outputs": [],
   "source": [
    "def load_to_csv(df, outputfile):\n",
    "    df.to_csv(outputfile)"
   ]
  },
  {
   "cell_type": "code",
   "execution_count": 7,
   "metadata": {},
   "outputs": [],
   "source": [
    "def load_to_db(df,sql_connection,Table_Name):\n",
    "    df.to_sql(Table_Name,sql_connection,if_exists='replace',index=False)"
   ]
  },
  {
   "cell_type": "code",
   "execution_count": 8,
   "metadata": {},
   "outputs": [],
   "source": [
    "def run_query(queryStatement, sql_connection):\n",
    "    print(queryStatement)\n",
    "    query_output = pd.read_sql(queryStatement, sql_connection)\n",
    "    print(query_output)"
   ]
  },
  {
   "cell_type": "code",
   "execution_count": 10,
   "metadata": {},
   "outputs": [
    {
     "name": "stdout",
     "output_type": "stream",
     "text": [
      "                                      Name  MC_USD_Billion\n",
      "0                           JPMorgan Chase          432.92\n",
      "1                          Bank of America          231.52\n",
      "2  Industrial and Commercial Bank of China          194.56\n",
      "3               Agricultural Bank of China          160.68\n",
      "4                                HDFC Bank          157.91\n",
      "5                              Wells Fargo          155.87\n",
      "6                        HSBC Holdings PLC          148.90\n",
      "7                           Morgan Stanley          140.83\n",
      "8                  China Construction Bank          139.82\n",
      "9                            Bank of China          136.81\n",
      "SELECT * FROM Largest_banks\n",
      "                                      Name  MC_USD_Billion  MC_EUR_Billion  \\\n",
      "0                           JPMorgan Chase          432.92          402.62   \n",
      "1                          Bank of America          231.52          215.31   \n",
      "2  Industrial and Commercial Bank of China          194.56          180.94   \n",
      "3               Agricultural Bank of China          160.68          149.43   \n",
      "4                                HDFC Bank          157.91          146.86   \n",
      "5                              Wells Fargo          155.87          144.96   \n",
      "6                        HSBC Holdings PLC          148.90          138.48   \n",
      "7                           Morgan Stanley          140.83          130.97   \n",
      "8                  China Construction Bank          139.82          130.03   \n",
      "9                            Bank of China          136.81          127.23   \n",
      "\n",
      "   MC_GBP_Billion  MC_INR_Billion  \n",
      "0          346.34        35910.71  \n",
      "1          185.22        19204.58  \n",
      "2          155.65        16138.75  \n",
      "3          128.54        13328.41  \n",
      "4          126.33        13098.63  \n",
      "5          124.70        12929.42  \n",
      "6          119.12        12351.26  \n",
      "7          112.66        11681.85  \n",
      "8          111.86        11598.07  \n",
      "9          109.45        11348.39  \n",
      "SELECT AVG(MC_GBP_Billion) FROM Largest_banks\n",
      "   AVG(MC_GBP_Billion)\n",
      "0              151.987\n",
      "SELECT Name from Largest_banks LIMIT 5\n",
      "                                      Name\n",
      "0                           JPMorgan Chase\n",
      "1                          Bank of America\n",
      "2  Industrial and Commercial Bank of China\n",
      "3               Agricultural Bank of China\n",
      "4                                HDFC Bank\n"
     ]
    }
   ],
   "source": [
    "log_progress('Extaction has started')\n",
    "df = extract(url,table_attrib)\n",
    "log_progress('Extaction has Ended')\n",
    "log_progress('Tranformation has started')\n",
    "transform(df,csv_path)\n",
    "log_progress('Tranformation has Ended')\n",
    "log_progress('Loading to csv has started')\n",
    "load_to_csv(df,outputfile)\n",
    "log_progress('Loading to csv has ended')\n",
    "log_progress('Loading to db has started')\n",
    "load_to_db(df,sql_connection,Table_Name)\n",
    "log_progress('Loading to db has ended')\n",
    "log_progress(f'running query: {query1}')\n",
    "run_query(query1,sql_connection)\n",
    "log_progress(f'running query: {query2}')\n",
    "run_query(query2,sql_connection)\n",
    "log_progress(f'running query: {query3}')\n",
    "run_query(query3,sql_connection)"
   ]
  },
  {
   "cell_type": "code",
   "execution_count": null,
   "metadata": {},
   "outputs": [],
   "source": []
  }
 ],
 "metadata": {
  "kernelspec": {
   "display_name": ".venv",
   "language": "python",
   "name": "python3"
  },
  "language_info": {
   "codemirror_mode": {
    "name": "ipython",
    "version": 3
   },
   "file_extension": ".py",
   "mimetype": "text/x-python",
   "name": "python",
   "nbconvert_exporter": "python",
   "pygments_lexer": "ipython3",
   "version": "3.11.9"
  }
 },
 "nbformat": 4,
 "nbformat_minor": 2
}
